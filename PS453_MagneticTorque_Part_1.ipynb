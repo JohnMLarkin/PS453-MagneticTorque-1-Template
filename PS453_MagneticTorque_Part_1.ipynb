{
  "nbformat": 4,
  "nbformat_minor": 0,
  "metadata": {
    "colab": {
      "name": "PS453-MagneticTorque-Part 1.ipynb",
      "provenance": [],
      "authorship_tag": "ABX9TyPcCgOlZ0S/Ahrco64/+mXY"
    },
    "kernelspec": {
      "name": "python3",
      "display_name": "Python 3"
    }
  },
  "cells": [
    {
      "cell_type": "markdown",
      "metadata": {
        "id": "ZvAHOP7EqI6M"
      },
      "source": [
        "# Theoretical foundations"
      ]
    },
    {
      "cell_type": "markdown",
      "metadata": {
        "id": "ArUn-IKwqO0e"
      },
      "source": [
        "## Static equilibrium method"
      ]
    },
    {
      "cell_type": "markdown",
      "metadata": {
        "id": "Hgd3LsQ0qVID"
      },
      "source": [
        "### Question 1\r\n",
        "_Refer to the figure in the lab guide._\r\n",
        "\r\n",
        "A ball containing a permanent magnet is floating on an air bearing. The ball is an applied magnetic field. Will this cause a clockwise or counterclockwise magnetic torque on the ball?\r\n",
        "\r\n"
      ]
    },
    {
      "cell_type": "markdown",
      "metadata": {
        "id": "Mod8hhRCrI2G"
      },
      "source": [
        ""
      ]
    },
    {
      "cell_type": "markdown",
      "metadata": {
        "id": "todQh-ivrJR9"
      },
      "source": [
        "### Exercise 1\r\n",
        "Write an algebraic expression for the magnitude of the magnetic torque, $N_\\mathrm{mag}$, in terms of $B$, $m$, and $\\theta$."
      ]
    },
    {
      "cell_type": "markdown",
      "metadata": {
        "id": "MpYO6fczrU46"
      },
      "source": [
        ""
      ]
    },
    {
      "cell_type": "markdown",
      "metadata": {
        "id": "MgOVTeGhsIUL"
      },
      "source": [
        "### Exercise 2\r\n",
        "_Refer to the figure in the lab guide._\r\n",
        "\r\n",
        "An aluminum rod of mass $M_\\mathrm{rod}$ and length $L$ has been inserted into the ball. The rod carries a moveable plastic cylindrical weight of mass $M$ that is located at a distance $r$ from the center of the ball.  Draw an extended body diagram which show the gravitational force vectors for the rod and the cylindrical weight.\r\n",
        "\r\n",
        "_Take a photo of this diagram. I recommend the Office Lens app for smartphones. It has a good setting for documents and also lets you pick the resolution (800 by 600 should be fine), crop, rotate, etc. Save this in an image format, not as a PDF. Alternatively, you could sketch this digitally and save as an image. In either case, when you have completed your image ready, edit the following Text cell and select the Insert image icon._"
      ]
    },
    {
      "cell_type": "markdown",
      "metadata": {
        "id": "xFWKverTsvS6"
      },
      "source": [
        ""
      ]
    },
    {
      "cell_type": "markdown",
      "metadata": {
        "id": "wUNvDF_jsv8A"
      },
      "source": [
        "### Question 2\r\n",
        "Is the gravitational torque on the ball clockwise or counterclockwise?"
      ]
    },
    {
      "cell_type": "markdown",
      "metadata": {
        "id": "3wH56vj5s3nY"
      },
      "source": [
        ""
      ]
    },
    {
      "cell_type": "markdown",
      "metadata": {
        "id": "xTAF_Jd_s4Fg"
      },
      "source": [
        "### Exercise 3\r\n",
        "The magnitude of a torque is given by $N = r F \\sin \\phi$ where $\\phi$ is the angle between $\\vec{r}$ and $\\vec{F}$. Write an algebraic expression for the magnitude of the **net** gravitational torque, $N_\\mathrm{grav}$, in terms of $g$, $M_\\mathrm{rod}$, $M$, $L$, $r$, and $\\phi$."
      ]
    },
    {
      "cell_type": "markdown",
      "metadata": {
        "id": "kIBDICNktWzu"
      },
      "source": [
        ""
      ]
    },
    {
      "cell_type": "markdown",
      "metadata": {
        "id": "hv-SqFldtXWc"
      },
      "source": [
        "### Question 3\r\n",
        "This apparatus has been constructed so that $\\sin \\phi = \\sin \\theta$. What are two different things that could have been done to make $\\sin \\phi \\ne \\sin \\theta$?"
      ]
    },
    {
      "cell_type": "markdown",
      "metadata": {
        "id": "5_3A9DUStqy6"
      },
      "source": [
        ""
      ]
    },
    {
      "cell_type": "markdown",
      "metadata": {
        "id": "rWbn6GTTtrOr"
      },
      "source": [
        "### Question 4\r\n",
        "What will the ball do if $N_\\mathrm{mag} > N_\\mathrm{grav}$?"
      ]
    },
    {
      "cell_type": "markdown",
      "metadata": {
        "id": "90FjPbgMt0wN"
      },
      "source": [
        ""
      ]
    },
    {
      "cell_type": "markdown",
      "metadata": {
        "id": "VOf-el9Et1Tw"
      },
      "source": [
        "### Exercise 4\r\n",
        "Static equilibrium occurs when $N_\\mathrm{mag} = N_\\mathrm{grav}$. Substiute the expressions you found earlier into this equation and then use the fact that $\\sin \\theta = \\sin \\phi$ to simplify it."
      ]
    },
    {
      "cell_type": "markdown",
      "metadata": {
        "id": "ZbF8f-x5vO8g"
      },
      "source": [
        ""
      ]
    },
    {
      "cell_type": "markdown",
      "metadata": {
        "id": "TJGzBcWOvOiI"
      },
      "source": [
        "### Question 5\r\n",
        "Which of the symbols in the equation you just found can be directly measured using the magnetic torque apparatus or standard laboratory equipment? Remember, the magnetic field is proportional to $I$ so if we can measure current then we easily know $B$."
      ]
    },
    {
      "cell_type": "markdown",
      "metadata": {
        "id": "ub59kcITvoMI"
      },
      "source": [
        ""
      ]
    },
    {
      "cell_type": "markdown",
      "metadata": {
        "id": "xkeB2KqBvn8F"
      },
      "source": [
        "### Question 6\r\n",
        "If your answers to Question 4 and 5 are correct, there is only one symbol left that is an unknown constant. What is it?"
      ]
    },
    {
      "cell_type": "markdown",
      "metadata": {
        "id": "5dzq0f7Cv8ch"
      },
      "source": [
        ""
      ]
    },
    {
      "cell_type": "markdown",
      "metadata": {
        "id": "iRwGEcvXv83p"
      },
      "source": [
        "### Question 7\r\n",
        "There are two possible methods by which we could calculate this unknown constant quantity. The first is by making a single-point measurement. While the ball is in static equilibrium, we could make one measurement of each of the directly measurable quantities involved in our equation, and from these single measurements calculate the unknown constant quantity. But notice that there are two directly measurable quantities that the experimenter can vary. What are these two variables?"
      ]
    },
    {
      "cell_type": "markdown",
      "metadata": {
        "id": "z8YSoCAhwEUz"
      },
      "source": [
        ""
      ]
    },
    {
      "cell_type": "markdown",
      "metadata": {
        "id": "Yrwme0IRwEBD"
      },
      "source": [
        "### Question 8\r\n",
        "Since there are two variables, we can make multiple measurements, and from these multiple measurements calculate the unknown constant quantity. This is what we will call a multiple-point measurement. If we were to double one of the experimenter-controlled variables, how would we have to adjust the magnitude of the second variable in order to maintain rotational static equilibrium?"
      ]
    },
    {
      "cell_type": "markdown",
      "metadata": {
        "id": "mMc9a2T0wODf"
      },
      "source": [
        ""
      ]
    },
    {
      "cell_type": "markdown",
      "metadata": {
        "id": "4iFpPd6TwPHx"
      },
      "source": [
        "### Exercise 5\r\n",
        "Sketch a hypothetical example of a graph of the first variable with respect to the second variable and label the axes."
      ]
    },
    {
      "cell_type": "markdown",
      "metadata": {
        "id": "I8nm5OO7wXCX"
      },
      "source": [
        ""
      ]
    },
    {
      "cell_type": "markdown",
      "metadata": {
        "id": "ftiaNIg_wXkN"
      },
      "source": [
        "### Question 9\r\n",
        "How could we extract the value of the unknown constant quantity from this graph?"
      ]
    },
    {
      "cell_type": "markdown",
      "metadata": {
        "id": "6nm0SEOOwjJx"
      },
      "source": [
        ""
      ]
    },
    {
      "cell_type": "markdown",
      "metadata": {
        "id": "ifBfw_GYwjly"
      },
      "source": [
        "### Question 10\r\n",
        "Which method would yield a more reliable and accurate value for the unknown constant: the single-point or multiple-point measurement? Explain your reasoning."
      ]
    },
    {
      "cell_type": "markdown",
      "metadata": {
        "id": "nwG3suxBwokC"
      },
      "source": [
        ""
      ]
    },
    {
      "cell_type": "markdown",
      "metadata": {
        "id": "1j_6dZUwwpVZ"
      },
      "source": [
        "---\r\n",
        "## Harmonic oscillation method"
      ]
    },
    {
      "cell_type": "markdown",
      "metadata": {
        "id": "NdlS91wjw4u2"
      },
      "source": [
        "### Exercise 6\r\n",
        "Now consider the ball without the extra rod or cylinder. In this case the only torque acting on it is the gravitational torque. Write the equation relating the net torque on an object to that object’s angular acceleration. This is sometimes called the rotational form of Newton’s second law. In this equation write the moment of inertia of the ball as $I_\\mathrm{ball}$ in order to distinguish it from the coil current, $I$."
      ]
    },
    {
      "cell_type": "markdown",
      "metadata": {
        "id": "xNX3phII00le"
      },
      "source": [
        ""
      ]
    },
    {
      "cell_type": "markdown",
      "metadata": {
        "id": "FroqteYg01D_"
      },
      "source": [
        "### Question 11\r\n",
        "_Refer to the figure in the lab guide._\r\n",
        "\r\n",
        "Suppose the ball was just released from rest. In which direction will the ball begin to rotate?"
      ]
    },
    {
      "cell_type": "markdown",
      "metadata": {
        "id": "MFfywKNS1Aip"
      },
      "source": [
        ""
      ]
    },
    {
      "cell_type": "markdown",
      "metadata": {
        "id": "5Dw-w9Mz1ACT"
      },
      "source": [
        "### Question 12\r\n",
        "Now suppose that the ball is rotating in a counterclockwise direction, as shown in the figure in the lab guide. Is the angular acceleration at the moment shown in the clockwise or counterclockwise direction?"
      ]
    },
    {
      "cell_type": "markdown",
      "metadata": {
        "id": "Cc1X59ff1dYt"
      },
      "source": [
        ""
      ]
    },
    {
      "cell_type": "markdown",
      "metadata": {
        "id": "LkjFztOl1d09"
      },
      "source": [
        "### Exercise 7\r\n",
        "Combine the equation you wrote in Exercise 6 with the gravitational torque expression you found in Exercise 1. Write the torque as a positive quantity if it supports an increase in the angular displacement of the handle or negative if it opposes an increase in that angular displacement. Also, write angular acceleration as $\\ddot{\\theta}$."
      ]
    },
    {
      "cell_type": "markdown",
      "metadata": {
        "id": "UUGeD_ry1sQK"
      },
      "source": [
        ""
      ]
    },
    {
      "cell_type": "markdown",
      "metadata": {
        "id": "CIlUOBR61stM"
      },
      "source": [
        "### Exercise 8\r\n",
        "For small angular displacements, $\\sin \\theta \\approx \\theta$. Make this substitution in the equation you found in Exercise 7 and then solve for $\\ddot{\\theta}$."
      ]
    },
    {
      "cell_type": "markdown",
      "metadata": {
        "id": "TIr230D717So"
      },
      "source": [
        ""
      ]
    },
    {
      "cell_type": "markdown",
      "metadata": {
        "id": "lXlmY5M4178a"
      },
      "source": [
        "### Question 13\r\n",
        "The differential equation for the motion of an object with mass $M$ attached to a spring with stiffness $k$ is $\\ddot{x} = -(k/M)x$. The equation you found in Exercise 8 should have a similar form. What property of the magnetic system plays a role similar to that of mass in the spring system? What property of the magnetic system plays a role similar to that of the spring in the spring system?"
      ]
    },
    {
      "cell_type": "markdown",
      "metadata": {
        "id": "DEaJ444V2qNX"
      },
      "source": [
        ""
      ]
    },
    {
      "cell_type": "markdown",
      "metadata": {
        "id": "H7sWLqcy2qth"
      },
      "source": [
        "### Exercise 9\r\n",
        "The expression $\\theta = A \\sin \\omega t$ is the solution to the differential equation you wrote in Exercise 8. In this solution, $A$ and $\\omega$ are unknown constants. Substitute this expression into the differential equation and solve for $\\omega$, the angular frequency of oscillation."
      ]
    },
    {
      "cell_type": "markdown",
      "metadata": {
        "id": "O6mHnwAi2-Ml"
      },
      "source": [
        ""
      ]
    },
    {
      "cell_type": "markdown",
      "metadata": {
        "id": "1TZfMLQN2-np"
      },
      "source": [
        "### Exercise 10\r\n",
        "Write an algebraic statement of the relationship between $\\omega$ and $T$, the period of oscillation."
      ]
    },
    {
      "cell_type": "markdown",
      "metadata": {
        "id": "c0NEugS43UzF"
      },
      "source": [
        ""
      ]
    },
    {
      "cell_type": "markdown",
      "metadata": {
        "id": "-4z19kQ13VM1"
      },
      "source": [
        "### Exercise 11\r\n",
        "Rewrite the equation from Exercise 9 in terms of $T$ rather than $\\omega$ and solve for $T^2$."
      ]
    },
    {
      "cell_type": "markdown",
      "metadata": {
        "id": "gL1U40ts3fGV"
      },
      "source": [
        ""
      ]
    },
    {
      "cell_type": "markdown",
      "metadata": {
        "id": "ue0vFu_33ncB"
      },
      "source": [
        "### Exercise 12\r\n",
        "Substitute the moment of inertia of a solid sphere into this expression as well as the relationship $B = \\alpha I$."
      ]
    },
    {
      "cell_type": "markdown",
      "metadata": {
        "id": "DvTEFXX73_Nt"
      },
      "source": [
        ""
      ]
    },
    {
      "cell_type": "markdown",
      "metadata": {
        "id": "Vh_s4iyw3_p_"
      },
      "source": [
        "### Question 14\r\n",
        "Look at the equation you derived in Exercise 12. Which symbols in this equation represent physical quantities that can be measured using the magnetic torque apparatus or standard laboratory equipment?"
      ]
    },
    {
      "cell_type": "markdown",
      "metadata": {
        "id": "aGbT3Xfl4FJO"
      },
      "source": [
        ""
      ]
    },
    {
      "cell_type": "markdown",
      "metadata": {
        "id": "v5HLMbev4E4n"
      },
      "source": [
        "### Question 15\r\n",
        "Of the symbols identified in Question 14, some represent quantities that can be varied by the experimenter, while others represent quantities that are constant throughout the whole experiment. Which symbols fall into each category?"
      ]
    },
    {
      "cell_type": "markdown",
      "metadata": {
        "id": "fk5LptaY4Mi6"
      },
      "source": [
        ""
      ]
    },
    {
      "cell_type": "markdown",
      "metadata": {
        "id": "TJ-5N9D44NAv"
      },
      "source": [
        "### Question 16\r\n",
        "Suppose we varied one of the variables from Question 15 and then recorded values of the second variable as we varied the first variable. Is there some way to plot our data in order to produce a straight line graph?"
      ]
    },
    {
      "cell_type": "markdown",
      "metadata": {
        "id": "eUJP6EkT4SgF"
      },
      "source": [
        ""
      ]
    },
    {
      "cell_type": "markdown",
      "metadata": {
        "id": "9gUGBCfd4S90"
      },
      "source": [
        "### Question 17\r\n",
        "How can the magnetic dipole moment be determined from this straight line graph?"
      ]
    },
    {
      "cell_type": "markdown",
      "metadata": {
        "id": "YnGoM_Lv4Xug"
      },
      "source": [
        ""
      ]
    },
    {
      "cell_type": "markdown",
      "metadata": {
        "id": "z1pTNx3E4XWW"
      },
      "source": [
        "### Question 18\r\n",
        "You will use a stopwatch to measure the period of oscillation. Which produces more confidence and accuracy in your period measurement: making multiple measurements of one period and then averaging those or making a single measurement of multiple periods? Explain."
      ]
    },
    {
      "cell_type": "markdown",
      "metadata": {
        "id": "oeKARnfa4dvo"
      },
      "source": [
        ""
      ]
    },
    {
      "cell_type": "markdown",
      "metadata": {
        "id": "SrytLsfW4eSG"
      },
      "source": [
        "### Question 19\r\n",
        "Which produces more evenly spaced data points on your straight-line graph (as identified in Question 16):\r\n",
        "\r\n",
        "* making more period measurements at higher magnetic fields than at lower fields,\r\n",
        "* making more period measurements at lower fields than at higher fields, or\r\n",
        "* making the same number of measurements at low, medium, and high fields?"
      ]
    },
    {
      "cell_type": "markdown",
      "metadata": {
        "id": "XOMzSY5k4mUm"
      },
      "source": [
        ""
      ]
    },
    {
      "cell_type": "markdown",
      "metadata": {
        "id": "xteXZnu94m_o"
      },
      "source": [
        "# Data and analysis"
      ]
    },
    {
      "cell_type": "markdown",
      "metadata": {
        "id": "lZ-1IKN94qz6"
      },
      "source": [
        "## Equipment\r\n",
        "\r\n",
        "| Description | Manufacturer | Model | ID or SN |\r\n",
        "| ----------- | ------------ | ----- | -------- |\r\n",
        "| Magnetic Torque apparatus | TeachSpin | fill in | fill in |\r\n",
        "| balance | fill in | fill in | fill in |\r\n",
        "| stopwatch| fill in | fill in | N/A |\r\n",
        "| calipers | N/A | N/A | N/A |\r\n",
        "\r\n",
        "\r\n",
        "_You should replace the **fill in** entries with appropriate info._"
      ]
    },
    {
      "cell_type": "markdown",
      "metadata": {
        "id": "lOVYElBq6CoZ"
      },
      "source": [
        "## Given constants"
      ]
    },
    {
      "cell_type": "code",
      "metadata": {
        "id": "mOed0sj36CIg"
      },
      "source": [
        "alpha = 1.36e-3; # prop between field and current (in T/A)"
      ],
      "execution_count": null,
      "outputs": []
    },
    {
      "cell_type": "markdown",
      "metadata": {
        "id": "b8TLwgo85XOx"
      },
      "source": [
        "## Measured constant values"
      ]
    },
    {
      "cell_type": "code",
      "metadata": {
        "id": "SXdYsnvn1clk"
      },
      "source": [
        "R = ??? # radius of ball (in m)\r\n",
        "L = ??? # length of rod (in m)\r\n",
        "Mball = ??? # mass of ball (in kg)\r\n",
        "Mrod = ??? # mass of rod (in kg)\r\n",
        "M = ??? # mass of cylindrical weight (in kg)"
      ],
      "execution_count": null,
      "outputs": []
    },
    {
      "cell_type": "markdown",
      "metadata": {
        "id": "l9wl3AoW6YYa"
      },
      "source": [
        "## Install and import libraries"
      ]
    },
    {
      "cell_type": "code",
      "metadata": {
        "id": "xI6JFKNW6bWp"
      },
      "source": [
        "!pip install whit-phys-util 1>/dev/null"
      ],
      "execution_count": null,
      "outputs": []
    },
    {
      "cell_type": "code",
      "metadata": {
        "id": "NTLY2er16_kv"
      },
      "source": [
        "import numpy as np\r\n",
        "import pandas as pd\r\n",
        "import matplotlib.pyplot as plt\r\n",
        "import whit_phys_util as buc"
      ],
      "execution_count": null,
      "outputs": []
    },
    {
      "cell_type": "markdown",
      "metadata": {
        "id": "UUC37QR77KMo"
      },
      "source": [
        "## Connect to GitHub"
      ]
    },
    {
      "cell_type": "code",
      "metadata": {
        "id": "MZdRvKVk7MX0"
      },
      "source": [
        "repo = buc.local_repository(\"replace me\")"
      ],
      "execution_count": null,
      "outputs": []
    },
    {
      "cell_type": "markdown",
      "metadata": {
        "id": "E-LiahBV7ZLA"
      },
      "source": [
        "## Static equilibrium method"
      ]
    },
    {
      "cell_type": "code",
      "metadata": {
        "id": "_05ygc3s7bqd"
      },
      "source": [
        ""
      ],
      "execution_count": null,
      "outputs": []
    },
    {
      "cell_type": "markdown",
      "metadata": {
        "id": "aBRrBIl47cVu"
      },
      "source": [
        "## Harmonic oscillation method"
      ]
    },
    {
      "cell_type": "code",
      "metadata": {
        "id": "MYYgRa6o7gKk"
      },
      "source": [
        ""
      ],
      "execution_count": null,
      "outputs": []
    }
  ]
}
